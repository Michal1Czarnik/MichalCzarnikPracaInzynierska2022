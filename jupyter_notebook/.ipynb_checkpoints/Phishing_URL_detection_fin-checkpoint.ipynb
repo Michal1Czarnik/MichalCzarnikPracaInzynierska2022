{
 "cells": [
  {
   "cell_type": "markdown",
   "metadata": {},
   "source": [
    "# 1. Import bibliotek"
   ]
  },
  {
   "cell_type": "code",
   "execution_count": 1,
   "metadata": {},
   "outputs": [],
   "source": [
    "#biblioteki\n",
    "import numpy as np\n",
    "import pandas as pd\n",
    "import matplotlib\n",
    "import matplotlib.pyplot as plt\n",
    "from os import abort\n",
    "from scipy import interpolate\n",
    "from sklearn.linear_model import LinearRegression\n",
    "from sklearn.metrics import r2_score\n",
    "from sklearn.metrics import precision_recall_curve\n",
    "from sklearn.feature_extraction.text import TfidfVectorizer\n",
    "from sklearn.model_selection import train_test_split\n",
    "from sklearn.neighbors import KNeighborsClassifier\n",
    "from sklearn.neural_network import MLPClassifier\n",
    "from sklearn.metrics import confusion_matrix\n",
    "from sklearn.model_selection import cross_val_score\n",
    "from sklearn.linear_model import LogisticRegression\n",
    "from sklearn.tree import DecisionTreeClassifier\n",
    "from sklearn.naive_bayes import MultinomialNB\n",
    "from sklearn.pipeline import make_pipeline\n",
    "from sklearn.preprocessing import StandardScaler\n",
    "from sklearn.svm import SVC\n",
    "from sklearn.model_selection import GridSearchCV\n",
    "from sklearn.metrics import precision_recall_curve\n",
    "from sklearn.model_selection import learning_curve\n",
    "from sklearn.ensemble import StackingClassifier"
   ]
  },
  {
   "cell_type": "markdown",
   "metadata": {},
   "source": [
    "# 2. Import danych"
   ]
  },
  {
   "cell_type": "code",
   "execution_count": 2,
   "metadata": {},
   "outputs": [
    {
     "name": "stdout",
     "output_type": "stream",
     "text": [
      "Dane są okej.\n",
      "\n",
      "Łącznie URL      441263\n",
      "label    441263\n",
      "dtype: int64 rekordów.\n",
      "\n",
      "Podsumowanie danych z uwzględnieniem etykiet:\n"
     ]
    },
    {
     "data": {
      "text/html": [
       "<div>\n",
       "<style scoped>\n",
       "    .dataframe tbody tr th:only-of-type {\n",
       "        vertical-align: middle;\n",
       "    }\n",
       "\n",
       "    .dataframe tbody tr th {\n",
       "        vertical-align: top;\n",
       "    }\n",
       "\n",
       "    .dataframe thead th {\n",
       "        text-align: right;\n",
       "    }\n",
       "</style>\n",
       "<table border=\"1\" class=\"dataframe\">\n",
       "  <thead>\n",
       "    <tr style=\"text-align: right;\">\n",
       "      <th></th>\n",
       "      <th>URL</th>\n",
       "    </tr>\n",
       "    <tr>\n",
       "      <th>label</th>\n",
       "      <th></th>\n",
       "    </tr>\n",
       "  </thead>\n",
       "  <tbody>\n",
       "    <tr>\n",
       "      <th>0</th>\n",
       "      <td>354821</td>\n",
       "    </tr>\n",
       "    <tr>\n",
       "      <th>1</th>\n",
       "      <td>86442</td>\n",
       "    </tr>\n",
       "  </tbody>\n",
       "</table>\n",
       "</div>"
      ],
      "text/plain": [
       "          URL\n",
       "label        \n",
       "0      354821\n",
       "1       86442"
      ]
     },
     "execution_count": 2,
     "metadata": {},
     "output_type": "execute_result"
    }
   ],
   "source": [
    "#import danych z pliku csv, w którym kolumny danych są rozdzielone przecinkami\n",
    "data_pandas = pd.read_csv(r'C:\\Users\\czarn\\Desktop\\praca_dyplomowa\\data\\data_all.csv', sep=',')\n",
    "\n",
    "#sprawdzenie czy gdzieś w danych znajduje się wartość null\n",
    "null_url = pd.isnull(data_pandas[\"URL\"])\n",
    "null_label = pd.isnull(data_pandas[\"label\"])\n",
    "if (data_pandas[null_url]).empty and (data_pandas[null_label]).empty:\n",
    "    print('Dane są okej.')\n",
    "else:\n",
    "    print('Błędne dane wejściowe.')\n",
    "    abort()\n",
    "\n",
    "#podsumowanie danych\n",
    "print('\\nŁącznie ' + str(data_pandas.count()) + ' rekordów.')\n",
    "print('\\nPodsumowanie danych z uwzględnieniem etykiet:')\n",
    "data_pandas.groupby(\"label\").count()\n"
   ]
  },
  {
   "cell_type": "markdown",
   "metadata": {},
   "source": [
    "# 3. Obróbka danych"
   ]
  },
  {
   "cell_type": "code",
   "execution_count": 3,
   "metadata": {
    "scrolled": true
   },
   "outputs": [],
   "source": [
    "#tokenizer\n",
    "def token(f):\n",
    "    slash = str(f.encode('utf-8')).split('/')\n",
    "    total = []\n",
    "    for i in slash:\n",
    "        tokens = str(i).split('-')\n",
    "        dot = []\n",
    "        for j in range(0, len(tokens)):\n",
    "            temp = str(tokens[j]).split('.')\n",
    "            dot += temp\n",
    "        total += tokens + dot\n",
    "    total = list(set(total))\n",
    "    return total\n",
    "\n",
    "pandas_URL = data_pandas['URL']\n",
    "pandas_label = data_pandas['label']\n",
    "tfidf_pandas = TfidfVectorizer(tokenizer = token)\n",
    "tfidf_URL = tfidf_pandas.fit_transform(pandas_URL)"
   ]
  },
  {
   "cell_type": "markdown",
   "metadata": {},
   "source": [
    "# 4. Podział danych"
   ]
  },
  {
   "cell_type": "code",
   "execution_count": 4,
   "metadata": {
    "scrolled": false
   },
   "outputs": [
    {
     "name": "stdout",
     "output_type": "stream",
     "text": [
      "\n",
      "Łącznie 295646 treningowych rekordów.\n",
      "Łącznie 145617testowych rekordów.\n",
      "\n",
      "Wektory cech dla procesu trenowania modelu:\n",
      "  (0, 714225)\t0.5902282504926714\n",
      "  (0, 390641)\t0.33034759096282906\n",
      "  (0, 390640)\t0.33034759096282906\n",
      "  (0, 582276)\t0.5722402439837818\n",
      "  (0, 547587)\t0.3024093974805686\n",
      "  (0, 1738)\t0.10451588063328877\n",
      "  (0, 444707)\t0.05947806979669577\n",
      "  (1, 538817)\t0.5469562272056142\n",
      "  (1, 538818)\t0.5469562272056142\n",
      "  (1, 405658)\t0.5302869942998022\n",
      "  (1, 242991)\t0.21581057501593923\n",
      "  (1, 0)\t0.1762648988339679\n",
      "  (1, 444961)\t0.20695399457083033\n",
      "  (2, 610706)\t0.5443712909777962\n",
      "  (2, 326628)\t0.5160097234454254\n",
      "  (2, 326627)\t0.5160097234454254\n",
      "  (2, 695227)\t0.3623509334640638\n",
      "  (2, 601356)\t0.1747498352313582\n",
      "  (2, 1738)\t0.09639566527107653\n",
      "  (3, 375834)\t0.4090075924618044\n",
      "  (3, 117027)\t0.5491905341899631\n",
      "  (3, 109037)\t0.5427534734019427\n",
      "  (3, 375825)\t0.3861065927809575\n",
      "  (3, 625937)\t0.26232056649937496\n",
      "  (3, 1738)\t0.11863042947157577\n",
      "  :\t:\n",
      "  (295641, 479124)\t0.28723668172268213\n",
      "  (295641, 444707)\t0.07135627935477395\n",
      "  (295642, 28119)\t0.593005777204701\n",
      "  (295642, 578323)\t0.5259650579232118\n",
      "  (295642, 604788)\t0.4617643215011191\n",
      "  (295642, 625937)\t0.2321974547570945\n",
      "  (295642, 213852)\t0.22480217690351514\n",
      "  (295642, 213850)\t0.2246239665377317\n",
      "  (295642, 444707)\t0.05975796478224144\n",
      "  (295643, 232731)\t0.6882450457248701\n",
      "  (295643, 232729)\t0.6523877022781127\n",
      "  (295643, 1738)\t0.12187240611643013\n",
      "  (295643, 723330)\t0.293012217456624\n",
      "  (295644, 606216)\t0.7883332138075815\n",
      "  (295644, 246267)\t0.34635287797096864\n",
      "  (295644, 246266)\t0.34609736126213897\n",
      "  (295644, 598842)\t0.33613858415570147\n",
      "  (295644, 1738)\t0.1395957242046535\n",
      "  (295644, 444707)\t0.07944136505625127\n",
      "  (295645, 350068)\t0.5502477878039097\n",
      "  (295645, 350069)\t0.5502477878039097\n",
      "  (295645, 554251)\t0.5194596127450674\n",
      "  (295645, 746381)\t0.2903305003361419\n",
      "  (295645, 746317)\t0.19177691960097382\n",
      "  (295645, 444707)\t0.05955055367902837\n"
     ]
    }
   ],
   "source": [
    "#podział danych\n",
    "URL_train, URL_test, label_train, label_test = train_test_split(tfidf_URL, pandas_label, test_size=0.33)\n",
    "\n",
    "#podsumowanie danych po podzieleniu na treningowe i testowe\n",
    "if ((URL_train.shape[0] == label_train.shape[0]) & (URL_test.shape[0] == label_test.shape[0])):\n",
    "    print('\\nŁącznie ' + str(URL_train.shape[0]) + ' treningowych rekordów.')\n",
    "    print('Łącznie ' + str(URL_test.shape[0]) + 'testowych rekordów.')\n",
    "else:\n",
    "    print('Coś poszło nie tak')\n",
    "    abort()\n",
    "\n",
    "#wyświetlenie przykładowych adresów URL przedstawionych jako wektory cech\n",
    "print('\\nWektory cech dla procesu trenowania modelu:')\n",
    "print(URL_train)"
   ]
  },
  {
   "cell_type": "markdown",
   "metadata": {},
   "source": [
    "# 5. Definicja przydatnych parametrów"
   ]
  },
  {
   "cell_type": "code",
   "execution_count": 5,
   "metadata": {},
   "outputs": [],
   "source": [
    "def WYKRESY(model, y_actual, y_predict, URL_train, label_train):\n",
    "    cm = confusion_matrix(y_actual, y_predict)\n",
    "\n",
    "    FP = cm.sum(axis=0) - np.diag(cm)  \n",
    "    FN = cm.sum(axis=1) - np.diag(cm)\n",
    "    TP = np.diag(cm)\n",
    "    TN = cm.sum() - (FP + FN + TP)\n",
    "\n",
    "    print('Prawdziwie pozytywne: %s' % TP[0])\n",
    "    print('Prawdziwie negatywne: %s' % TN[0])\n",
    "    print('Fałszywie pozytywne: %s' % FP[0])\n",
    "    print('Fałszywie negatywne: %s' % FN[0])\n",
    "    czulosc = (TP[0]) / (TP[0] + FN[0])\n",
    "    specyficznosc = (TN[0]) / (TN[0] + FP[0])\n",
    "    dokladnosc = (TP[0] + TN[0]) / (TP[0] + TN[0] + FP[0] + FN[0])\n",
    "    zr_dokladnosc = (czulosc + specyficznosc) / 2\n",
    "    print('Reprezentacja czułości: %s' % czulosc)\n",
    "    print('Specyficzność: %s' % specyficznosc)\n",
    "    print('Dokładność: %s' % dokladnosc)\n",
    "    print('Zrównoważona dokładność: %s' % zr_dokladnosc)\n",
    "\n",
    "    horizontal = [\"Phishing\", \"Not phishing\"]\n",
    "    vertical = [\"Low score\", \"High Score\"]\n",
    "    data = ([[TP[0], FP[0]],\n",
    "                 [FN[0], TN[0]]])\n",
    "\n",
    "    #kontur wykresu\n",
    "    fig, ax = plt.subplots()\n",
    "    im = ax.imshow(data)\n",
    "    ax.set_xticks(np.arange(len(horizontal)))\n",
    "    ax.set_yticks(np.arange(len(vertical)))\n",
    "    ax.set_xticklabels(horizontal)\n",
    "    ax.set_yticklabels(vertical)\n",
    "\n",
    "    #naniesienie danych na wykres\n",
    "    for i in range(len(horizontal)):\n",
    "        for j in range(len(vertical)):\n",
    "            text = ax.text(j, i, data[i][j], ha = \"center\", va = \"center\")\n",
    "    ax.set_title(\"Confiusion matrix\")\n",
    "    fig.tight_layout()\n",
    "    plt.show()\n",
    "\n",
    "    TPR = czulosc\n",
    "    FPR = 1 - specyficznosc\n",
    "    \n",
    "    x = np.array([0, FPR, 1])\n",
    "    y = np.array([0, TPR, 1])\n",
    "\n",
    "    AUC = np.trapz(y, x)\n",
    "    print('AUC = %s' % AUC)\n",
    "    plt.figure(1)\n",
    "    plt.plot(x, y, 'r')\n",
    "    plt.xlim([0, 1])\n",
    "    plt.ylim([0, 1])\n",
    "    plt.xlabel('FPR')\n",
    "    plt.ylabel('TPR')\n",
    "    plt.title('ROC CURVE')\n",
    "    \n",
    "    precision, recall, thresholds = precision_recall_curve(y_actual, y_predict)\n",
    "    plt.figure(2)\n",
    "    plt.plot(recall, precision, 'r')\n",
    "    plt.xlim([0, 1])\n",
    "    plt.ylim([0, 1])\n",
    "    plt.xlabel('recall')\n",
    "    plt.ylabel('recall')\n",
    "    plt.title('PRECISION-RECALL CURVE')"
   ]
  },
  {
   "cell_type": "markdown",
   "metadata": {},
   "source": [
    "# 6. Stacking"
   ]
  },
  {
   "cell_type": "code",
   "execution_count": 6,
   "metadata": {},
   "outputs": [],
   "source": [
    "base_learners = [\n",
    "                ('rf_NB', MultinomialNB(alpha = 0.4)),\n",
    "                ('rf_SVM', SVC(kernel = 'linear')),\n",
    "                ('rf_KNN', KNeighborsClassifier(n_neighbors = 3)),\n",
    "                ('rf_MLP', MLPClassifier(learning_rate_init = 0.3, max_iter = 500, hidden_layer_sizes = (1,), batch_size = 100, momentum = 0.2)),\n",
    "                ('rf_LR', LogisticRegression(penalty = 'none', max_iter = 500, solver = 'newton-cg')),\n",
    "                ('rf_DT', DecisionTreeClassifier(criterion = 'gini', splitter = 'random'))\n",
    "                ]\n",
    "\n",
    "#stworzenie modelu typu stacking\n",
    "stacking_model = StackingClassifier(estimators = base_learners, final_estimator = LogisticRegression())"
   ]
  },
  {
   "cell_type": "code",
   "execution_count": 7,
   "metadata": {},
   "outputs": [
    {
     "name": "stdout",
     "output_type": "stream",
     "text": [
      "Prawdziwie pozytywne: 116239\n",
      "Prawdziwie negatywne: 26639\n",
      "Fałszywie pozytywne: 1979\n",
      "Fałszywie negatywne: 760\n",
      "Reprezentacja czułości: 0.9935042179847691\n",
      "Specyficzność: 0.9308477182193026\n",
      "Dokładność: 0.9811903829909969\n",
      "Zrównoważona dokładność: 0.9621759681020359\n"
     ]
    },
    {
     "data": {
      "image/png": "[encoded data removed]",
      "text/plain": [
       "<Figure size 432x288 with 1 Axes>"
      ]
     },
     "metadata": {
      "needs_background": "light"
     },
     "output_type": "display_data"
    },
    {
     "name": "stdout",
     "output_type": "stream",
     "text": [
      "AUC = 0.9621759681020359\n"
     ]
    },
    {
     "data": {
      "image/png": "[encoded data removed]",
      "text/plain": [
       "<Figure size 432x288 with 1 Axes>"
      ]
     },
     "metadata": {
      "needs_background": "light"
     },
     "output_type": "display_data"
    },
    {
     "data": {
      "image/png": "[encoded data removed]",
      "text/plain": [
       "<Figure size 432x288 with 1 Axes>"
      ]
     },
     "metadata": {
      "needs_background": "light"
     },
     "output_type": "display_data"
    }
   ],
   "source": [
    "#wytrenowanie modelu\n",
    "stacking_trained = stacking_model.fit(URL_train, label_train)\n",
    "\n",
    "y_actual_STA = label_test\n",
    "y_predict_STA = stacking_model.predict(URL_test)\n",
    "\n",
    "WYKRESY(stacking_model, y_actual_STA, y_predict_STA, URL_train, label_train)"
   ]
  },
  {
   "cell_type": "markdown",
   "metadata": {},
   "source": [
    "# 7. Test"
   ]
  },
  {
   "cell_type": "code",
   "execution_count": 10,
   "metadata": {},
   "outputs": [],
   "source": [
    "a = \"/www.savanvisalpara.com\"\n",
    "aa = tfidf_pandas.transform([a])\n"
   ]
  },
  {
   "cell_type": "code",
   "execution_count": null,
   "metadata": {},
   "outputs": [],
   "source": []
  }
 ],
 "metadata": {
  "kernelspec": {
   "display_name": "Python 3",
   "language": "python",
   "name": "python3"
  },
  "language_info": {
   "codemirror_mode": {
    "name": "ipython",
    "version": 3
   },
   "file_extension": ".py",
   "mimetype": "text/x-python",
   "name": "python",
   "nbconvert_exporter": "python",
   "pygments_lexer": "ipython3",
   "version": "3.8.5"
  }
 },
 "nbformat": 4,
 "nbformat_minor": 4
}
